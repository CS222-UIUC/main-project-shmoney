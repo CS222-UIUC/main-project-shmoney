{
 "cells": [
  {
   "cell_type": "code",
   "execution_count": 1,
   "metadata": {},
   "outputs": [
    {
     "name": "stdout",
     "output_type": "stream",
     "text": [
      "/Users/aaditroychowdhury/anaconda3/bin/python\n"
     ]
    }
   ],
   "source": [
    "import sys\n",
    "print(sys.executable)"
   ]
  },
  {
   "cell_type": "code",
   "execution_count": 2,
   "metadata": {},
   "outputs": [
    {
     "name": "stdout",
     "output_type": "stream",
     "text": [
      "Name: keras\n",
      "Version: 3.6.0\n",
      "Summary: Multi-backend Keras.\n",
      "Home-page: https://github.com/keras-team/keras\n",
      "Author: Keras team\n",
      "Author-email: keras-users@googlegroups.com\n",
      "License: Apache License 2.0\n",
      "Location: /Users/aaditroychowdhury/anaconda3/lib/python3.11/site-packages\n",
      "Requires: absl-py, h5py, ml-dtypes, namex, numpy, optree, packaging, rich\n",
      "Required-by: tensorflow\n"
     ]
    }
   ],
   "source": [
    "!pip show keras\n"
   ]
  },
  {
   "cell_type": "code",
   "execution_count": 3,
   "metadata": {},
   "outputs": [
    {
     "name": "stdout",
     "output_type": "stream",
     "text": [
      "Requirement already satisfied: keras in /Users/aaditroychowdhury/anaconda3/lib/python3.11/site-packages (3.6.0)\n",
      "Requirement already satisfied: absl-py in /Users/aaditroychowdhury/anaconda3/lib/python3.11/site-packages (from keras) (2.1.0)\n",
      "Requirement already satisfied: numpy in /Users/aaditroychowdhury/anaconda3/lib/python3.11/site-packages (from keras) (2.0.2)\n",
      "Requirement already satisfied: rich in /Users/aaditroychowdhury/anaconda3/lib/python3.11/site-packages (from keras) (13.9.4)\n",
      "Requirement already satisfied: namex in /Users/aaditroychowdhury/anaconda3/lib/python3.11/site-packages (from keras) (0.0.8)\n",
      "Requirement already satisfied: h5py in /Users/aaditroychowdhury/anaconda3/lib/python3.11/site-packages (from keras) (3.12.1)\n",
      "Requirement already satisfied: optree in /Users/aaditroychowdhury/anaconda3/lib/python3.11/site-packages (from keras) (0.13.0)\n",
      "Requirement already satisfied: ml-dtypes in /Users/aaditroychowdhury/anaconda3/lib/python3.11/site-packages (from keras) (0.4.1)\n",
      "Requirement already satisfied: packaging in /Users/aaditroychowdhury/anaconda3/lib/python3.11/site-packages (from keras) (23.1)\n",
      "Requirement already satisfied: typing-extensions>=4.5.0 in /Users/aaditroychowdhury/anaconda3/lib/python3.11/site-packages (from optree->keras) (4.9.0)\n",
      "Requirement already satisfied: markdown-it-py>=2.2.0 in /Users/aaditroychowdhury/anaconda3/lib/python3.11/site-packages (from rich->keras) (2.2.0)\n",
      "Requirement already satisfied: pygments<3.0.0,>=2.13.0 in /Users/aaditroychowdhury/anaconda3/lib/python3.11/site-packages (from rich->keras) (2.15.1)\n",
      "Requirement already satisfied: mdurl~=0.1 in /Users/aaditroychowdhury/anaconda3/lib/python3.11/site-packages (from markdown-it-py>=2.2.0->rich->keras) (0.1.0)\n"
     ]
    }
   ],
   "source": [
    "!pip install keras\n"
   ]
  },
  {
   "cell_type": "code",
   "execution_count": 2,
   "metadata": {},
   "outputs": [
    {
     "name": "stdout",
     "output_type": "stream",
     "text": [
      "Collecting tensorflow\n",
      "  Obtaining dependency information for tensorflow from https://files.pythonhosted.org/packages/26/08/556c4159675c1a30e077ec2a942eeeb81b457cc35c247a5b4a59a1274f05/tensorflow-2.18.0-cp311-cp311-macosx_12_0_arm64.whl.metadata\n",
      "  Using cached tensorflow-2.18.0-cp311-cp311-macosx_12_0_arm64.whl.metadata (4.0 kB)\n",
      "Requirement already satisfied: absl-py>=1.0.0 in /Users/aaditroychowdhury/anaconda3/lib/python3.11/site-packages (from tensorflow) (2.1.0)\n",
      "Requirement already satisfied: astunparse>=1.6.0 in /Users/aaditroychowdhury/anaconda3/lib/python3.11/site-packages (from tensorflow) (1.6.3)\n",
      "Requirement already satisfied: flatbuffers>=24.3.25 in /Users/aaditroychowdhury/anaconda3/lib/python3.11/site-packages (from tensorflow) (24.3.25)\n",
      "Requirement already satisfied: gast!=0.5.0,!=0.5.1,!=0.5.2,>=0.2.1 in /Users/aaditroychowdhury/anaconda3/lib/python3.11/site-packages (from tensorflow) (0.6.0)\n",
      "Requirement already satisfied: google-pasta>=0.1.1 in /Users/aaditroychowdhury/anaconda3/lib/python3.11/site-packages (from tensorflow) (0.2.0)\n",
      "Requirement already satisfied: libclang>=13.0.0 in /Users/aaditroychowdhury/anaconda3/lib/python3.11/site-packages (from tensorflow) (18.1.1)\n",
      "Requirement already satisfied: opt-einsum>=2.3.2 in /Users/aaditroychowdhury/anaconda3/lib/python3.11/site-packages (from tensorflow) (3.4.0)\n",
      "Requirement already satisfied: packaging in /Users/aaditroychowdhury/anaconda3/lib/python3.11/site-packages (from tensorflow) (23.1)\n",
      "Requirement already satisfied: protobuf!=4.21.0,!=4.21.1,!=4.21.2,!=4.21.3,!=4.21.4,!=4.21.5,<6.0.0dev,>=3.20.3 in /Users/aaditroychowdhury/anaconda3/lib/python3.11/site-packages (from tensorflow) (5.28.3)\n",
      "Requirement already satisfied: requests<3,>=2.21.0 in /Users/aaditroychowdhury/anaconda3/lib/python3.11/site-packages (from tensorflow) (2.31.0)\n",
      "Requirement already satisfied: setuptools in /Users/aaditroychowdhury/anaconda3/lib/python3.11/site-packages (from tensorflow) (68.0.0)\n",
      "Requirement already satisfied: six>=1.12.0 in /Users/aaditroychowdhury/anaconda3/lib/python3.11/site-packages (from tensorflow) (1.16.0)\n",
      "Requirement already satisfied: termcolor>=1.1.0 in /Users/aaditroychowdhury/anaconda3/lib/python3.11/site-packages (from tensorflow) (2.5.0)\n",
      "Requirement already satisfied: typing-extensions>=3.6.6 in /Users/aaditroychowdhury/anaconda3/lib/python3.11/site-packages (from tensorflow) (4.9.0)\n",
      "Requirement already satisfied: wrapt>=1.11.0 in /Users/aaditroychowdhury/anaconda3/lib/python3.11/site-packages (from tensorflow) (1.14.1)\n",
      "Requirement already satisfied: grpcio<2.0,>=1.24.3 in /Users/aaditroychowdhury/anaconda3/lib/python3.11/site-packages (from tensorflow) (1.67.1)\n",
      "Requirement already satisfied: tensorboard<2.19,>=2.18 in /Users/aaditroychowdhury/anaconda3/lib/python3.11/site-packages (from tensorflow) (2.18.0)\n",
      "Requirement already satisfied: keras>=3.5.0 in /Users/aaditroychowdhury/anaconda3/lib/python3.11/site-packages (from tensorflow) (3.6.0)\n",
      "Collecting numpy<2.1.0,>=1.26.0 (from tensorflow)\n",
      "  Obtaining dependency information for numpy<2.1.0,>=1.26.0 from https://files.pythonhosted.org/packages/c1/ca/2f384720020c7b244d22508cb7ab23d95f179fcfff33c31a6eeba8d6c512/numpy-2.0.2-cp311-cp311-macosx_14_0_arm64.whl.metadata\n",
      "  Using cached numpy-2.0.2-cp311-cp311-macosx_14_0_arm64.whl.metadata (60 kB)\n",
      "Requirement already satisfied: h5py>=3.11.0 in /Users/aaditroychowdhury/anaconda3/lib/python3.11/site-packages (from tensorflow) (3.12.1)\n",
      "Requirement already satisfied: ml-dtypes<0.5.0,>=0.4.0 in /Users/aaditroychowdhury/anaconda3/lib/python3.11/site-packages (from tensorflow) (0.4.1)\n",
      "Requirement already satisfied: tensorflow-io-gcs-filesystem>=0.23.1 in /Users/aaditroychowdhury/anaconda3/lib/python3.11/site-packages (from tensorflow) (0.37.1)\n",
      "Requirement already satisfied: wheel<1.0,>=0.23.0 in /Users/aaditroychowdhury/anaconda3/lib/python3.11/site-packages (from astunparse>=1.6.0->tensorflow) (0.38.4)\n",
      "Requirement already satisfied: rich in /Users/aaditroychowdhury/anaconda3/lib/python3.11/site-packages (from keras>=3.5.0->tensorflow) (13.9.4)\n",
      "Requirement already satisfied: namex in /Users/aaditroychowdhury/anaconda3/lib/python3.11/site-packages (from keras>=3.5.0->tensorflow) (0.0.8)\n",
      "Requirement already satisfied: optree in /Users/aaditroychowdhury/anaconda3/lib/python3.11/site-packages (from keras>=3.5.0->tensorflow) (0.13.0)\n",
      "Requirement already satisfied: charset-normalizer<4,>=2 in /Users/aaditroychowdhury/anaconda3/lib/python3.11/site-packages (from requests<3,>=2.21.0->tensorflow) (2.0.4)\n",
      "Requirement already satisfied: idna<4,>=2.5 in /Users/aaditroychowdhury/anaconda3/lib/python3.11/site-packages (from requests<3,>=2.21.0->tensorflow) (3.4)\n",
      "Requirement already satisfied: urllib3<3,>=1.21.1 in /Users/aaditroychowdhury/anaconda3/lib/python3.11/site-packages (from requests<3,>=2.21.0->tensorflow) (1.26.16)\n",
      "Requirement already satisfied: certifi>=2017.4.17 in /Users/aaditroychowdhury/anaconda3/lib/python3.11/site-packages (from requests<3,>=2.21.0->tensorflow) (2024.2.2)\n",
      "Requirement already satisfied: markdown>=2.6.8 in /Users/aaditroychowdhury/anaconda3/lib/python3.11/site-packages (from tensorboard<2.19,>=2.18->tensorflow) (3.4.1)\n",
      "Requirement already satisfied: tensorboard-data-server<0.8.0,>=0.7.0 in /Users/aaditroychowdhury/anaconda3/lib/python3.11/site-packages (from tensorboard<2.19,>=2.18->tensorflow) (0.7.2)\n",
      "Requirement already satisfied: werkzeug>=1.0.1 in /Users/aaditroychowdhury/anaconda3/lib/python3.11/site-packages (from tensorboard<2.19,>=2.18->tensorflow) (2.2.3)\n",
      "Requirement already satisfied: MarkupSafe>=2.1.1 in /Users/aaditroychowdhury/anaconda3/lib/python3.11/site-packages (from werkzeug>=1.0.1->tensorboard<2.19,>=2.18->tensorflow) (2.1.1)\n",
      "Requirement already satisfied: markdown-it-py>=2.2.0 in /Users/aaditroychowdhury/anaconda3/lib/python3.11/site-packages (from rich->keras>=3.5.0->tensorflow) (2.2.0)\n",
      "Requirement already satisfied: pygments<3.0.0,>=2.13.0 in /Users/aaditroychowdhury/anaconda3/lib/python3.11/site-packages (from rich->keras>=3.5.0->tensorflow) (2.15.1)\n",
      "Requirement already satisfied: mdurl~=0.1 in /Users/aaditroychowdhury/anaconda3/lib/python3.11/site-packages (from markdown-it-py>=2.2.0->rich->keras>=3.5.0->tensorflow) (0.1.0)\n",
      "Using cached tensorflow-2.18.0-cp311-cp311-macosx_12_0_arm64.whl (239.5 MB)\n",
      "Using cached numpy-2.0.2-cp311-cp311-macosx_14_0_arm64.whl (5.3 MB)\n",
      "Installing collected packages: numpy, tensorflow\n",
      "\u001b[31mERROR: pip's dependency resolver does not currently take into account all the packages that are installed. This behaviour is the source of the following dependency conflicts.\n",
      "datashader 0.15.2 requires pandas, which is not installed.\n",
      "datashader 0.15.2 requires scipy, which is not installed.\n",
      "hvplot 0.8.4 requires pandas, which is not installed.\n",
      "tables 3.8.0 requires blosc2~=2.0.0, which is not installed.\n",
      "tables 3.8.0 requires cython>=0.29.21, which is not installed.\n",
      "statsmodels 0.14.0 requires pandas>=1.0, which is not installed.\n",
      "statsmodels 0.14.0 requires scipy!=1.9.2,>=1.4, which is not installed.\n",
      "scikit-learn 1.3.0 requires scipy>=1.5.0, which is not installed.\n",
      "bokeh 3.2.1 requires pandas>=1.2, which is not installed.\n",
      "datasets 2.12.0 requires pandas, which is not installed.\n",
      "scikit-image 0.20.0 requires scipy>=1.8; python_version > \"3.9\", which is not installed.\n",
      "holoviews 1.17.1 requires pandas>=0.20.0, which is not installed.\n",
      "imbalanced-learn 0.10.1 requires scipy>=1.3.2, which is not installed.\n",
      "panel 1.2.3 requires pandas>=1.2, which is not installed.\n",
      "gensim 4.3.0 requires FuzzyTM>=0.4.0, which is not installed.\n",
      "gensim 4.3.0 requires scipy>=1.7.0, which is not installed.\n",
      "seaborn 0.12.2 requires pandas>=0.25, which is not installed.\n",
      "xarray 2023.6.0 requires pandas>=1.4, which is not installed.\n",
      "numba 0.57.1 requires numpy<1.25,>=1.21, but you have numpy 2.0.2 which is incompatible.\u001b[0m\u001b[31m\n",
      "\u001b[0mSuccessfully installed numpy-2.0.2 tensorflow-2.18.0\n"
     ]
    }
   ],
   "source": [
    "!pip install tensorflow\n",
    "\n",
    "from tensorflow.keras.layers import Dense, Dropout, LSTM\n",
    "from tensorflow.keras.models import Sequential\n",
    "\n",
    "# Initialize the model\n",
    "model = Sequential()\n",
    "\n"
   ]
  },
  {
   "cell_type": "code",
   "execution_count": 1,
   "metadata": {},
   "outputs": [
    {
     "name": "stdout",
     "output_type": "stream",
     "text": [
      "Collecting package metadata (current_repodata.json): done\n",
      "Solving environment: unsuccessful initial attempt using frozen solve. Retrying with flexible solve.\n",
      "Collecting package metadata (repodata.json): done\n",
      "Solving environment: unsuccessful initial attempt using frozen solve. Retrying with flexible solve.\n",
      "Solving environment: / \n",
      "Found conflicts! Looking for incompatible packages.\n",
      "This can take several minutes.  Press CTRL-C to abort.\n",
      "                                                                               failed\n",
      "\n",
      "UnsatisfiableError: The following specifications were found\n",
      "to be incompatible with the existing python installation in your environment:\n",
      "\n",
      "Specifications:\n",
      "\n",
      "  - matplotlib=3.5 -> python[version='>=3.10,<3.11.0a0|>=3.8,<3.9.0a0|>=3.9,<3.10.0a0']\n",
      "  - pandas=1.4 -> python[version='>=3.10,<3.11.0a0|>=3.8,<3.9.0a0|>=3.9,<3.10.0a0']\n",
      "\n",
      "Your python: python=3.11\n",
      "\n",
      "If python is on the left-most side of the chain, that's the version you've asked for.\n",
      "When python appears to the right, that indicates that the thing on the left is somehow\n",
      "not available for the python version you are constrained to. Note that conda will not\n",
      "change your python version to a different minor version unless you explicitly specify\n",
      "that.\n",
      "\n",
      "The following specifications were found to be incompatible with each other:\n",
      "\n",
      "Output in format: Requested package -> Available versions\n",
      "\n",
      "Package python_abi conflicts for:\n",
      "matplotlib=3.5 -> tornado -> python_abi=3.13[build=*_cp313]\n",
      "pandas=1.4 -> bottleneck[version='>=1.3.1'] -> python_abi=3.13[build=*_cp313]\n",
      "python=3.11 -> pip -> python_abi=3.13[build=*_cp313]\n",
      "\n",
      "Package packaging conflicts for:\n",
      "matplotlib=3.5 -> matplotlib-base[version='>=3.5.3,<3.5.4.0a0'] -> packaging[version='>=20.0']\n",
      "pandas=1.4 -> numexpr[version='>=2.7.1'] -> packaging\n",
      "\n",
      "Package setuptools conflicts for:\n",
      "python=3.11 -> pip -> setuptools\n",
      "pandas=1.4 -> numexpr[version='>=2.7.1'] -> setuptools\n",
      "\n",
      "Package numpy-base conflicts for:\n",
      "pandas=1.4 -> numpy[version='>=1.21.5,<2.0a0'] -> numpy-base[version='1.21.2|1.21.2|1.21.2|1.21.5|1.21.5|1.21.5|1.21.5|1.21.5|1.21.5|1.21.5|1.21.5|1.21.5|1.21.6|1.21.6|1.21.6|1.21.6|1.21.6|1.21.6|1.22.3|1.22.3|1.22.3|1.22.3|1.23.1|1.23.1|1.23.1|1.23.3|1.23.3|1.23.3|1.23.3|1.23.3|1.23.3|1.23.4|1.23.4|1.23.4|1.23.5|1.23.5|1.23.5|1.23.5|1.24.3|1.24.3|1.24.3|1.24.3|1.25.0|1.25.0|1.25.0|1.25.2|1.25.2|1.25.2|1.26.0|1.26.0|1.26.0|1.26.0|1.26.2|1.26.2|1.26.2|1.26.2|1.26.3|1.26.3|1.26.3|1.26.3|1.26.4',build='py310h6269429_0|py38h6269429_0|py39h974a1f5_1|py38h974a1f5_2|py39hadd41eb_3|py38haf87e8b_0|py38haf87e8b_1|py310haf87e8b_1|py310h742c864_0|py39hadd41eb_0|py38hadd41eb_0|py39hadd41eb_0|py310h742c864_0|py38hadd41eb_0|py310h742c864_1|py38h90707a3_0|py38h90707a3_0|py38h90707a3_0|py311h1d85a46_0|py39ha9811e2_0|py310ha9811e2_0|py311hfbfe69c_0|py311hfbfe69c_0|py311hfbfe69c_0|py312he047099_0|py311hfbfe69c_0|py312he047099_0|py312he047099_0|py310ha9811e2_0|py312he047099_0|py310ha9811e2_0|py311hfbfe69c_0|py39ha9811e2_0|py39ha9811e2_0|py311hfbfe69c_0|py39ha9811e2_0|py310ha9811e2_0|py310ha9811e2_0|py39ha9811e2_0|py310ha9811e2_0|py39ha9811e2_0|py39h90707a3_0|py310haf87e8b_0|py311h9eb1c70_0|py310haf87e8b_0|py39h90707a3_0|py39h90707a3_0|py310haf87e8b_0|py39hadd41eb_1|py38hadd41eb_1|py311h9eb1c70_1|py310h5e3e9f0_0|py38h974a1f5_0|py39h974a1f5_0|py39haf87e8b_1|py310haf87e8b_0|py39haf87e8b_0|py310h742c864_3|py38hadd41eb_3|py310h5e3e9f0_2|py39h974a1f5_2|py310h5e3e9f0_1|py38h974a1f5_1|py39h6269429_0']\n",
      "numpy=1.23 -> numpy-base[version='1.23.1|1.23.1|1.23.1|1.23.3|1.23.3|1.23.3|1.23.3|1.23.3|1.23.3|1.23.4|1.23.4|1.23.4|1.23.5',build='py310h742c864_0|py39hadd41eb_0|py38hadd41eb_0|py39hadd41eb_0|py310h742c864_0|py38hadd41eb_0|py38hadd41eb_1|py310h742c864_1|py38h90707a3_0|py311h9eb1c70_0|py310haf87e8b_0|py39h90707a3_0|py38h90707a3_0|py39h90707a3_0|py310haf87e8b_0|py39hadd41eb_1']\n",
      "\n",
      "Package numpy conflicts for:\n",
      "pandas=1.4 -> numpy[version='>=1.21.2,<2.0a0|>=1.21.5,<2.0a0']\n",
      "matplotlib=3.5 -> matplotlib-base[version='>=3.5.3,<3.5.4.0a0'] -> numpy[version='>=1.19.5,<2.0a0|>=1.21.2,<2.0a0|>=1.21.5,<2.0a0']\n",
      "pandas=1.4 -> bottleneck[version='>=1.3.1'] -> numpy[version='>=1.19.5,<2.0a0|>=1.21,<3|>=1.26.4,<2.0a0|>=1.21.6,<2.0a0|>=1.23.5,<2.0a0|>=1.26.0,<2.0a0|>=1.22.3,<2.0a0|>=1.23.0']\n",
      "\n",
      "\n",
      "Note: you may need to restart the kernel to use updated packages.\n"
     ]
    }
   ],
   "source": [
    "conda install numpy=1.23 matplotlib=3.5 pandas=1.4\n"
   ]
  },
  {
   "cell_type": "code",
   "execution_count": null,
   "metadata": {},
   "outputs": [],
   "source": []
  }
 ],
 "metadata": {
  "kernelspec": {
   "display_name": "base",
   "language": "python",
   "name": "python3"
  },
  "language_info": {
   "codemirror_mode": {
    "name": "ipython",
    "version": 3
   },
   "file_extension": ".py",
   "mimetype": "text/x-python",
   "name": "python",
   "nbconvert_exporter": "python",
   "pygments_lexer": "ipython3",
   "version": "3.11.5"
  }
 },
 "nbformat": 4,
 "nbformat_minor": 2
}
